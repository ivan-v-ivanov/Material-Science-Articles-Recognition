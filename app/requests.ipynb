{
 "cells": [
  {
   "cell_type": "code",
   "execution_count": 1,
   "id": "4b3454d9",
   "metadata": {},
   "outputs": [],
   "source": [
    "import requests\n",
    "import urllib.request\n",
    "import json"
   ]
  },
  {
   "cell_type": "code",
   "execution_count": 2,
   "id": "3fb190cd",
   "metadata": {},
   "outputs": [],
   "source": [
    "host = '127.0.0.1'\n",
    "port = '1111'"
   ]
  },
  {
   "cell_type": "code",
   "execution_count": 19,
   "id": "5f7df855",
   "metadata": {},
   "outputs": [],
   "source": [
    "import pandas as pd\n",
    "data = pd.read_csv('X_test.csv').iloc[158]"
   ]
  },
  {
   "cell_type": "code",
   "execution_count": 20,
   "id": "839398f7",
   "metadata": {},
   "outputs": [
    {
     "data": {
      "text/plain": [
       "Unnamed: 0                                                       2118\n",
       "title               identification analysis fluorideresistant geno...\n",
       "publication_date                                           2020-04-01\n",
       "abstract            aim study identify genomic mutations present f...\n",
       "journal                                                             0\n",
       "Name: 158, dtype: object"
      ]
     },
     "execution_count": 20,
     "metadata": {},
     "output_type": "execute_result"
    }
   ],
   "source": [
    "data"
   ]
  },
  {
   "cell_type": "code",
   "execution_count": 21,
   "id": "40f3f09a",
   "metadata": {},
   "outputs": [],
   "source": [
    "def send_json(data):\n",
    "    title, publication_date, abstract = data['title'], data['publication_date'], data['abstract']\n",
    "    \n",
    "    body = {'title': title,\n",
    "           'publication_date': publication_date,\n",
    "           'abstract': abstract}  \n",
    "\n",
    "    url = f'http://{host}:{port}/prediction'\n",
    "    headers = {'content-type': 'application/json; charset=utf-8'}\n",
    "    response = requests.post(url, json=body, headers=headers)\n",
    "\n",
    "    response.raise_for_status()\n",
    "    if response.status_code != 204:\n",
    "        return response.json()\n",
    "    \n",
    "    return response.json()['predictions']"
   ]
  },
  {
   "cell_type": "code",
   "execution_count": 22,
   "id": "dfd81ee2",
   "metadata": {},
   "outputs": [
    {
     "data": {
      "text/plain": [
       "{'predictions': '0.0008912396',\n",
       " 'success': True,\n",
       " 'title': 'identification analysis fluorideresistant genomic mutation based silicon solid nanopore'}"
      ]
     },
     "execution_count": 22,
     "metadata": {},
     "output_type": "execute_result"
    }
   ],
   "source": [
    "send_json(data)"
   ]
  }
 ],
 "metadata": {
  "kernelspec": {
   "display_name": "Python 3 (ipykernel)",
   "language": "python",
   "name": "python3"
  },
  "language_info": {
   "codemirror_mode": {
    "name": "ipython",
    "version": 3
   },
   "file_extension": ".py",
   "mimetype": "text/x-python",
   "name": "python",
   "nbconvert_exporter": "python",
   "pygments_lexer": "ipython3",
   "version": "3.10.2"
  }
 },
 "nbformat": 4,
 "nbformat_minor": 5
}
