{
 "cells": [
  {
   "cell_type": "code",
   "execution_count": 1,
   "id": "b28b10d4",
   "metadata": {},
   "outputs": [],
   "source": [
    "from flask import Flask, request, jsonify\n",
    "import pandas as pd\n",
    "import pickle\n",
    "from sklearn.base import BaseEstimator, TransformerMixin"
   ]
  },
  {
   "cell_type": "code",
   "execution_count": 9,
   "id": "04f0972b",
   "metadata": {},
   "outputs": [],
   "source": [
    "class FeatureSelector(BaseEstimator, TransformerMixin):\n",
    "    def __init__(self, column):\n",
    "        self.column = column\n",
    "\n",
    "    def fit(self, X, y=None):\n",
    "        return self\n",
    "\n",
    "    def transform(self, X, y=None):\n",
    "        return X[self.column]"
   ]
  },
  {
   "cell_type": "code",
   "execution_count": 10,
   "id": "5003fa1b",
   "metadata": {},
   "outputs": [],
   "source": [
    "pipeline = pickle.load(open('xgb_classifier.pipe', 'rb'))"
   ]
  },
  {
   "cell_type": "code",
   "execution_count": 11,
   "id": "8d60afb4",
   "metadata": {},
   "outputs": [],
   "source": [
    "host = '127.0.0.1'\n",
    "port = '1111'"
   ]
  },
  {
   "cell_type": "code",
   "execution_count": 18,
   "id": "41ac8df5",
   "metadata": {},
   "outputs": [
    {
     "name": "stdout",
     "output_type": "stream",
     "text": [
      " * Serving Flask app '__main__' (lazy loading)\n",
      " * Environment: production\n",
      "\u001b[31m   WARNING: This is a development server. Do not use it in a production deployment.\u001b[0m\n",
      "\u001b[2m   Use a production WSGI server instead.\u001b[0m\n",
      " * Debug mode: off\n"
     ]
    },
    {
     "name": "stderr",
     "output_type": "stream",
     "text": [
      " * Running on http://127.0.0.1:1111 (Press CTRL+C to quit)\n",
      "127.0.0.1 - - [28/Jul/2022 14:01:50] \"POST /prediction HTTP/1.1\" 200 -\n"
     ]
    },
    {
     "name": "stdout",
     "output_type": "stream",
     "text": [
      "dirac fermions flat bands ideal kagome metal fesn\n",
      "DONE\n"
     ]
    },
    {
     "name": "stderr",
     "output_type": "stream",
     "text": [
      "127.0.0.1 - - [28/Jul/2022 14:02:23] \"POST /prediction HTTP/1.1\" 200 -\n"
     ]
    },
    {
     "name": "stdout",
     "output_type": "stream",
     "text": [
      "identification analysis fluorideresistant genomic mutation based silicon solid nanopore\n",
      "DONE\n"
     ]
    }
   ],
   "source": [
    "app = Flask(__name__)\n",
    "\n",
    "@app.route('/', methods=['GET'])\n",
    "def general():\n",
    "    return 'Jornal prediction by article abstract'\n",
    "\n",
    "@app.route('/prediction', methods=['POST'])\n",
    "def prediction():\n",
    "    data = {'success': False}\n",
    "    \n",
    "    title, publication_date, abstract = '', '', ''\n",
    "    request_json = request.get_json()\n",
    "    \n",
    "    if request_json['title']:\n",
    "        title = request_json['title']\n",
    "        \n",
    "    if request_json['publication_date']:\n",
    "        publication_date = request_json['publication_date']\n",
    "        \n",
    "    if request_json['abstract']:\n",
    "        abstract = request_json['abstract']\n",
    "        \n",
    "    print(title)\n",
    "    pred = pipeline.predict_proba(pd.DataFrame({'title': [title],\n",
    "                                                      'publication_date': [publication_date],\n",
    "                                                      'abstract': [abstract]}))\n",
    "    \n",
    "    data['predictions'] = str(pred[:,1][0])\n",
    "    data['title'] = title\n",
    "    data['success'] = True\n",
    "    print('DONE')\n",
    "    \n",
    "    return jsonify(data)\n",
    "\n",
    "if __name__ == '__main__':\n",
    "    app.run(host = host,\n",
    "            port = port)"
   ]
  }
 ],
 "metadata": {
  "kernelspec": {
   "display_name": "Python 3 (ipykernel)",
   "language": "python",
   "name": "python3"
  },
  "language_info": {
   "codemirror_mode": {
    "name": "ipython",
    "version": 3
   },
   "file_extension": ".py",
   "mimetype": "text/x-python",
   "name": "python",
   "nbconvert_exporter": "python",
   "pygments_lexer": "ipython3",
   "version": "3.10.2"
  }
 },
 "nbformat": 4,
 "nbformat_minor": 5
}
